{
 "cells": [
  {
   "cell_type": "markdown",
   "id": "53f4f1a2",
   "metadata": {},
   "source": [
    "# Importing and understanding the data"
   ]
  },
  {
   "cell_type": "markdown",
   "id": "0e2d4ccd",
   "metadata": {},
   "source": [
    "## Importing the data"
   ]
  },
  {
   "cell_type": "code",
   "execution_count": 1,
   "id": "f1202387",
   "metadata": {},
   "outputs": [],
   "source": [
    "import pandas as pd"
   ]
  },
  {
   "cell_type": "code",
   "execution_count": 2,
   "id": "8593aad3",
   "metadata": {},
   "outputs": [],
   "source": [
    "train_df = pd.read_csv('train.csv', sep = ',')"
   ]
  },
  {
   "cell_type": "code",
   "execution_count": 3,
   "id": "c5b31833",
   "metadata": {},
   "outputs": [],
   "source": [
    "test_df = pd.read_csv('test.csv', sep = ',')"
   ]
  },
  {
   "cell_type": "markdown",
   "id": "a4883403",
   "metadata": {},
   "source": [
    "## Understanding and cleaning the data"
   ]
  },
  {
   "cell_type": "markdown",
   "id": "e8b24561",
   "metadata": {},
   "source": [
    "### Training set"
   ]
  },
  {
   "cell_type": "code",
   "execution_count": 4,
   "id": "7e5bd730",
   "metadata": {},
   "outputs": [
    {
     "name": "stdout",
     "output_type": "stream",
     "text": [
      "<class 'pandas.core.frame.DataFrame'>\n",
      "RangeIndex: 891 entries, 0 to 890\n",
      "Data columns (total 12 columns):\n",
      " #   Column       Non-Null Count  Dtype  \n",
      "---  ------       --------------  -----  \n",
      " 0   PassengerId  891 non-null    int64  \n",
      " 1   Survived     891 non-null    int64  \n",
      " 2   Pclass       891 non-null    int64  \n",
      " 3   Name         891 non-null    object \n",
      " 4   Sex          891 non-null    object \n",
      " 5   Age          714 non-null    float64\n",
      " 6   SibSp        891 non-null    int64  \n",
      " 7   Parch        891 non-null    int64  \n",
      " 8   Ticket       891 non-null    object \n",
      " 9   Fare         891 non-null    float64\n",
      " 10  Cabin        204 non-null    object \n",
      " 11  Embarked     889 non-null    object \n",
      "dtypes: float64(2), int64(5), object(5)\n",
      "memory usage: 83.7+ KB\n"
     ]
    }
   ],
   "source": [
    "train_df.info()"
   ]
  },
  {
   "cell_type": "markdown",
   "id": "d5a8ecee",
   "metadata": {},
   "source": [
    "**PassengerId**\n",
    "\n",
    "This is the unique id that identifies the passenger. This column will be dropped from the dataframe  since it doesn't add value to the analysis."
   ]
  },
  {
   "cell_type": "code",
   "execution_count": 5,
   "id": "0a82d39e",
   "metadata": {},
   "outputs": [],
   "source": [
    "PassengerId = train_df['PassengerId']\n",
    "train_df = train_df.drop(columns=['PassengerId'])"
   ]
  },
  {
   "cell_type": "markdown",
   "id": "ecd5aca5",
   "metadata": {},
   "source": [
    "**Survived**  \n",
    "\n",
    "This column is the label of the model, which means it's the value we want to predict."
   ]
  },
  {
   "cell_type": "code",
   "execution_count": 6,
   "id": "bf58aac3",
   "metadata": {},
   "outputs": [],
   "source": [
    "label = train_df['Survived']"
   ]
  },
  {
   "cell_type": "code",
   "execution_count": 7,
   "id": "818f1bd6",
   "metadata": {},
   "outputs": [],
   "source": [
    "train_df = train_df.drop(columns=['Survived'])"
   ]
  },
  {
   "cell_type": "markdown",
   "id": "97814994",
   "metadata": {},
   "source": [
    "**Pclass**  \n",
    "\n",
    "This is the ticket class (1 = 1st, 2 = 2nd, 3 = 3rd). Although its type is int64 it represents a categorical data, so the get_dummies method will be used to separate the columns."
   ]
  },
  {
   "cell_type": "code",
   "execution_count": 8,
   "id": "024a3a45",
   "metadata": {},
   "outputs": [],
   "source": [
    "Pclass = train_df['Pclass']\n",
    "train_df = pd.get_dummies(train_df,prefix=[\"Class\"],columns=[\"Pclass\"])"
   ]
  },
  {
   "cell_type": "markdown",
   "id": "a4b9685b",
   "metadata": {},
   "source": [
    "**Name**  \n",
    "Name of the person, will also be dropped."
   ]
  },
  {
   "cell_type": "code",
   "execution_count": 9,
   "id": "9319b3fc",
   "metadata": {},
   "outputs": [],
   "source": [
    "Name = train_df['Name']\n",
    "train_df = train_df.drop(columns=['Name'])"
   ]
  },
  {
   "cell_type": "markdown",
   "id": "9bafb779",
   "metadata": {},
   "source": [
    "**Sex**  \n",
    "Similar to Pclass, this is a categorical data and the get_dummies method will be used to separate the columns."
   ]
  },
  {
   "cell_type": "code",
   "execution_count": 10,
   "id": "e36aaac4",
   "metadata": {},
   "outputs": [],
   "source": [
    "Pclass = train_df['Sex']\n",
    "train_df = pd.get_dummies(train_df,prefix=[\"Sex\"],columns=[\"Sex\"])"
   ]
  },
  {
   "cell_type": "markdown",
   "id": "9679a5e7",
   "metadata": {},
   "source": [
    "**Age**  \n",
    "This is a quantitative variable and some null values were found, so some treatment is necessary. First, let's check some info:"
   ]
  },
  {
   "cell_type": "code",
   "execution_count": 11,
   "id": "320e9b57",
   "metadata": {},
   "outputs": [
    {
     "data": {
      "text/plain": [
       "count    714.000000\n",
       "mean      29.699118\n",
       "std       14.526497\n",
       "min        0.420000\n",
       "25%       20.125000\n",
       "50%       28.000000\n",
       "75%       38.000000\n",
       "max       80.000000\n",
       "Name: Age, dtype: float64"
      ]
     },
     "execution_count": 11,
     "metadata": {},
     "output_type": "execute_result"
    }
   ],
   "source": [
    "train_df['Age'].describe()"
   ]
  },
  {
   "cell_type": "code",
   "execution_count": 12,
   "id": "0ebf3acb",
   "metadata": {},
   "outputs": [],
   "source": [
    "age_median = train_df['Age'].median()"
   ]
  },
  {
   "cell_type": "code",
   "execution_count": 13,
   "id": "efb3420b",
   "metadata": {},
   "outputs": [],
   "source": [
    "Age = train_df['Age']"
   ]
  },
  {
   "cell_type": "code",
   "execution_count": 14,
   "id": "49a7ac3a",
   "metadata": {},
   "outputs": [],
   "source": [
    "train_df['Age'].fillna(age_median, inplace=True)"
   ]
  },
  {
   "cell_type": "code",
   "execution_count": 15,
   "id": "e1d16820",
   "metadata": {},
   "outputs": [
    {
     "data": {
      "text/plain": [
       "count    891.000000\n",
       "mean      29.361582\n",
       "std       13.019697\n",
       "min        0.420000\n",
       "25%       22.000000\n",
       "50%       28.000000\n",
       "75%       35.000000\n",
       "max       80.000000\n",
       "Name: Age, dtype: float64"
      ]
     },
     "execution_count": 15,
     "metadata": {},
     "output_type": "execute_result"
    }
   ],
   "source": [
    "train_df['Age'].describe()"
   ]
  },
  {
   "cell_type": "markdown",
   "id": "e031a99a",
   "metadata": {},
   "source": [
    "**SibSp**  \n",
    "Number of siblings/spouses, it will be left as it is."
   ]
  },
  {
   "cell_type": "markdown",
   "id": "d1e47484",
   "metadata": {},
   "source": [
    "**Parch**  \n",
    "Number of parents/children, it will be left as it is."
   ]
  },
  {
   "cell_type": "markdown",
   "id": "c3568070",
   "metadata": {},
   "source": [
    "**Ticket**  \n",
    "Ticket number. Some investigation needs to be done to decide if this column is important for the analysis."
   ]
  },
  {
   "cell_type": "code",
   "execution_count": 16,
   "id": "1efc4b19",
   "metadata": {},
   "outputs": [
    {
     "data": {
      "text/plain": [
       "array(['A/5 21171', 'PC 17599', 'STON/O2. 3101282', '113803', '373450',\n",
       "       '330877', '17463', '349909', '347742', '237736', 'PP 9549',\n",
       "       '113783', 'A/5. 2151', '347082', '350406', '248706', '382652',\n",
       "       '244373', '345763', '2649', '239865', '248698', '330923', '113788',\n",
       "       '347077', '2631', '19950', '330959', '349216', 'PC 17601',\n",
       "       'PC 17569', '335677', 'C.A. 24579', 'PC 17604', '113789', '2677',\n",
       "       'A./5. 2152', '345764', '2651', '7546', '11668', '349253',\n",
       "       'SC/Paris 2123', '330958', 'S.C./A.4. 23567', '370371', '14311',\n",
       "       '2662', '349237', '3101295', 'A/4. 39886', 'PC 17572', '2926',\n",
       "       '113509', '19947', 'C.A. 31026', '2697', 'C.A. 34651', 'CA 2144',\n",
       "       '2669', '113572', '36973', '347088', 'PC 17605', '2661',\n",
       "       'C.A. 29395', 'S.P. 3464', '3101281', '315151', 'C.A. 33111',\n",
       "       'S.O.C. 14879', '2680', '1601', '348123', '349208', '374746',\n",
       "       '248738', '364516', '345767', '345779', '330932', '113059',\n",
       "       'SO/C 14885', '3101278', 'W./C. 6608', 'SOTON/OQ 392086', '343275',\n",
       "       '343276', '347466', 'W.E.P. 5734', 'C.A. 2315', '364500', '374910',\n",
       "       'PC 17754', 'PC 17759', '231919', '244367', '349245', '349215',\n",
       "       '35281', '7540', '3101276', '349207', '343120', '312991', '349249',\n",
       "       '371110', '110465', '2665', '324669', '4136', '2627',\n",
       "       'STON/O 2. 3101294', '370369', 'PC 17558', 'A4. 54510', '27267',\n",
       "       '370372', 'C 17369', '2668', '347061', '349241',\n",
       "       'SOTON/O.Q. 3101307', 'A/5. 3337', '228414', 'C.A. 29178',\n",
       "       'SC/PARIS 2133', '11752', '7534', 'PC 17593', '2678', '347081',\n",
       "       'STON/O2. 3101279', '365222', '231945', 'C.A. 33112', '350043',\n",
       "       '230080', '244310', 'S.O.P. 1166', '113776', 'A.5. 11206',\n",
       "       'A/5. 851', 'Fa 265302', 'PC 17597', '35851', 'SOTON/OQ 392090',\n",
       "       '315037', 'CA. 2343', '371362', 'C.A. 33595', '347068', '315093',\n",
       "       '363291', '113505', 'PC 17318', '111240', 'STON/O 2. 3101280',\n",
       "       '17764', '350404', '4133', 'PC 17595', '250653', 'LINE',\n",
       "       'SC/PARIS 2131', '230136', '315153', '113767', '370365', '111428',\n",
       "       '364849', '349247', '234604', '28424', '350046', 'PC 17610',\n",
       "       '368703', '4579', '370370', '248747', '345770', '3101264', '2628',\n",
       "       'A/5 3540', '347054', '2699', '367231', '112277',\n",
       "       'SOTON/O.Q. 3101311', 'F.C.C. 13528', 'A/5 21174', '250646',\n",
       "       '367229', '35273', 'STON/O2. 3101283', '243847', '11813',\n",
       "       'W/C 14208', 'SOTON/OQ 392089', '220367', '21440', '349234',\n",
       "       '19943', 'PP 4348', 'SW/PP 751', 'A/5 21173', '236171', '347067',\n",
       "       '237442', 'C.A. 29566', 'W./C. 6609', '26707', 'C.A. 31921',\n",
       "       '28665', 'SCO/W 1585', '367230', 'W./C. 14263',\n",
       "       'STON/O 2. 3101275', '2694', '19928', '347071', '250649', '11751',\n",
       "       '244252', '362316', '113514', 'A/5. 3336', '370129', '2650',\n",
       "       'PC 17585', '110152', 'PC 17755', '230433', '384461', '110413',\n",
       "       '112059', '382649', 'C.A. 17248', '347083', 'PC 17582', 'PC 17760',\n",
       "       '113798', '250644', 'PC 17596', '370375', '13502', '347073',\n",
       "       '239853', 'C.A. 2673', '336439', '347464', '345778', 'A/5. 10482',\n",
       "       '113056', '349239', '345774', '349206', '237798', '370373',\n",
       "       '19877', '11967', 'SC/Paris 2163', '349236', '349233', 'PC 17612',\n",
       "       '2693', '113781', '19988', '9234', '367226', '226593', 'A/5 2466',\n",
       "       '17421', 'PC 17758', 'P/PP 3381', 'PC 17485', '11767', 'PC 17608',\n",
       "       '250651', '349243', 'F.C.C. 13529', '347470', '29011', '36928',\n",
       "       '16966', 'A/5 21172', '349219', '234818', '345364', '28551',\n",
       "       '111361', '113043', 'PC 17611', '349225', '7598', '113784',\n",
       "       '248740', '244361', '229236', '248733', '31418', '386525',\n",
       "       'C.A. 37671', '315088', '7267', '113510', '2695', '2647', '345783',\n",
       "       '237671', '330931', '330980', 'SC/PARIS 2167', '2691',\n",
       "       'SOTON/O.Q. 3101310', 'C 7076', '110813', '2626', '14313',\n",
       "       'PC 17477', '11765', '3101267', '323951', 'C 7077', '113503',\n",
       "       '2648', '347069', 'PC 17757', '2653', 'STON/O 2. 3101293',\n",
       "       '349227', '27849', '367655', 'SC 1748', '113760', '350034',\n",
       "       '3101277', '350052', '350407', '28403', '244278', '240929',\n",
       "       'STON/O 2. 3101289', '341826', '4137', '315096', '28664', '347064',\n",
       "       '29106', '312992', '349222', '394140', 'STON/O 2. 3101269',\n",
       "       '343095', '28220', '250652', '28228', '345773', '349254',\n",
       "       'A/5. 13032', '315082', '347080', 'A/4. 34244', '2003', '250655',\n",
       "       '364851', 'SOTON/O.Q. 392078', '110564', '376564', 'SC/AH 3085',\n",
       "       'STON/O 2. 3101274', '13507', 'C.A. 18723', '345769', '347076',\n",
       "       '230434', '65306', '33638', '113794', '2666', '113786', '65303',\n",
       "       '113051', '17453', 'A/5 2817', '349240', '13509', '17464',\n",
       "       'F.C.C. 13531', '371060', '19952', '364506', '111320', '234360',\n",
       "       'A/S 2816', 'SOTON/O.Q. 3101306', '113792', '36209', '323592',\n",
       "       '315089', 'SC/AH Basle 541', '7553', '31027', '3460', '350060',\n",
       "       '3101298', '239854', 'A/5 3594', '4134', '11771', 'A.5. 18509',\n",
       "       '65304', 'SOTON/OQ 3101317', '113787', 'PC 17609', 'A/4 45380',\n",
       "       '36947', 'C.A. 6212', '350035', '315086', '364846', '330909',\n",
       "       '4135', '26360', '111427', 'C 4001', '382651', 'SOTON/OQ 3101316',\n",
       "       'PC 17473', 'PC 17603', '349209', '36967', 'C.A. 34260', '226875',\n",
       "       '349242', '12749', '349252', '2624', '2700', '367232',\n",
       "       'W./C. 14258', 'PC 17483', '3101296', '29104', '2641', '2690',\n",
       "       '315084', '113050', 'PC 17761', '364498', '13568', 'WE/P 5735',\n",
       "       '2908', '693', 'SC/PARIS 2146', '244358', '330979', '2620',\n",
       "       '347085', '113807', '11755', '345572', '372622', '349251',\n",
       "       '218629', 'SOTON/OQ 392082', 'SOTON/O.Q. 392087', 'A/4 48871',\n",
       "       '349205', '2686', '350417', 'S.W./PP 752', '11769', 'PC 17474',\n",
       "       '14312', 'A/4. 20589', '358585', '243880', '2689',\n",
       "       'STON/O 2. 3101286', '237789', '13049', '3411', '237565', '13567',\n",
       "       '14973', 'A./5. 3235', 'STON/O 2. 3101273', 'A/5 3902', '364848',\n",
       "       'SC/AH 29037', '248727', '2664', '349214', '113796', '364511',\n",
       "       '111426', '349910', '349246', '113804', 'SOTON/O.Q. 3101305',\n",
       "       '370377', '364512', '220845', '31028', '2659', '11753', '350029',\n",
       "       '54636', '36963', '219533', '349224', '334912', '27042', '347743',\n",
       "       '13214', '112052', '237668', 'STON/O 2. 3101292', '350050',\n",
       "       '349231', '13213', 'S.O./P.P. 751', 'CA. 2314', '349221', '8475',\n",
       "       '330919', '365226', '349223', '29751', '2623', '5727', '349210',\n",
       "       'STON/O 2. 3101285', '234686', '312993', 'A/5 3536', '19996',\n",
       "       '29750', 'F.C. 12750', 'C.A. 24580', '244270', '239856', '349912',\n",
       "       '342826', '4138', '330935', '6563', '349228', '350036', '24160',\n",
       "       '17474', '349256', '2672', '113800', '248731', '363592', '35852',\n",
       "       '348121', 'PC 17475', '36864', '350025', '223596', 'PC 17476',\n",
       "       'PC 17482', '113028', '7545', '250647', '348124', '34218', '36568',\n",
       "       '347062', '350048', '12233', '250643', '113806', '315094', '36866',\n",
       "       '236853', 'STON/O2. 3101271', '239855', '28425', '233639',\n",
       "       '349201', '349218', '16988', '376566', 'STON/O 2. 3101288',\n",
       "       '250648', '113773', '335097', '29103', '392096', '345780',\n",
       "       '349204', '350042', '29108', '363294', 'SOTON/O2 3101272', '2663',\n",
       "       '347074', '112379', '364850', '8471', '345781', '350047',\n",
       "       'S.O./P.P. 3', '2674', '29105', '347078', '383121', '36865',\n",
       "       '2687', '113501', 'W./C. 6607', 'SOTON/O.Q. 3101312', '374887',\n",
       "       '3101265', '12460', 'PC 17600', '349203', '28213', '17465',\n",
       "       '349244', '2685', '2625', '347089', '347063', '112050', '347087',\n",
       "       '248723', '3474', '28206', '364499', '112058', 'STON/O2. 3101290',\n",
       "       'S.C./PARIS 2079', 'C 7075', '315098', '19972', '368323', '367228',\n",
       "       '2671', '347468', '2223', 'PC 17756', '315097', '392092', '11774',\n",
       "       'SOTON/O2 3101287', '2683', '315090', 'C.A. 5547', '349213',\n",
       "       '347060', 'PC 17592', '392091', '113055', '2629', '350026',\n",
       "       '28134', '17466', '233866', '236852', 'SC/PARIS 2149', 'PC 17590',\n",
       "       '345777', '349248', '695', '345765', '2667', '349212', '349217',\n",
       "       '349257', '7552', 'C.A./SOTON 34068', 'SOTON/OQ 392076', '211536',\n",
       "       '112053', '111369', '370376'], dtype=object)"
      ]
     },
     "execution_count": 16,
     "metadata": {},
     "output_type": "execute_result"
    }
   ],
   "source": [
    "train_df['Ticket'].unique()"
   ]
  },
  {
   "cell_type": "markdown",
   "id": "605b2677",
   "metadata": {},
   "source": [
    "For now the Ticket column will be dropped, but it can be revisited later."
   ]
  },
  {
   "cell_type": "code",
   "execution_count": 17,
   "id": "dc9aa375",
   "metadata": {},
   "outputs": [],
   "source": [
    "Ticket = train_df['Ticket']\n",
    "train_df = train_df.drop(columns=['Ticket'])"
   ]
  },
  {
   "cell_type": "markdown",
   "id": "0f163d6f",
   "metadata": {},
   "source": [
    "**Fare**  \n",
    "This is a quantitative variable. First, let's check some info:"
   ]
  },
  {
   "cell_type": "code",
   "execution_count": 18,
   "id": "0576feb5",
   "metadata": {},
   "outputs": [
    {
     "data": {
      "text/plain": [
       "count    891.000000\n",
       "mean      32.204208\n",
       "std       49.693429\n",
       "min        0.000000\n",
       "25%        7.910400\n",
       "50%       14.454200\n",
       "75%       31.000000\n",
       "max      512.329200\n",
       "Name: Fare, dtype: float64"
      ]
     },
     "execution_count": 18,
     "metadata": {},
     "output_type": "execute_result"
    }
   ],
   "source": [
    "train_df['Fare'].describe()"
   ]
  },
  {
   "cell_type": "markdown",
   "id": "5d2b67a1",
   "metadata": {},
   "source": [
    "This column seems to have one or more outliers. Checking with boxplot and skewness:"
   ]
  },
  {
   "cell_type": "code",
   "execution_count": 19,
   "id": "97f2fef8",
   "metadata": {},
   "outputs": [],
   "source": [
    "import seaborn as sns"
   ]
  },
  {
   "cell_type": "code",
   "execution_count": 20,
   "id": "42b9f7b7",
   "metadata": {},
   "outputs": [
    {
     "data": {
      "text/plain": [
       "<AxesSubplot:xlabel='Fare'>"
      ]
     },
     "execution_count": 20,
     "metadata": {},
     "output_type": "execute_result"
    },
    {
     "data": {
      "image/png": "[encoded data removed]",
      "text/plain": [
       "<Figure size 432x288 with 1 Axes>"
      ]
     },
     "metadata": {
      "needs_background": "light"
     },
     "output_type": "display_data"
    }
   ],
   "source": [
    "sns.boxplot(x = train_df['Fare'])"
   ]
  },
  {
   "cell_type": "code",
   "execution_count": 21,
   "id": "d2593b0c",
   "metadata": {},
   "outputs": [
    {
     "name": "stdout",
     "output_type": "stream",
     "text": [
      "Skewness:  4.787316519674893\n"
     ]
    }
   ],
   "source": [
    "print('Skewness: ',train_df['Fare'].skew())"
   ]
  },
  {
   "cell_type": "markdown",
   "id": "c2fed220",
   "metadata": {},
   "source": [
    "Analyzing the boxplot and seeing that the skewness is bigger than 1, we can see that we have some outliers in our Fare data. \n",
    "To treat these outliers, it was decided to cap the highest values."
   ]
  },
  {
   "cell_type": "code",
   "execution_count": 22,
   "id": "7f314fc5",
   "metadata": {},
   "outputs": [],
   "source": [
    "import numpy as np\n",
    "\n",
    "Q1 = train_df['Fare'].quantile(0.25)\n",
    "Q3 = train_df['Fare'].quantile(0.75)\n",
    "IQR = Q3 - Q1\n",
    "whisker_width = 1.5\n",
    "lower_whisker = Q1 -(whisker_width*IQR)\n",
    "upper_whisker = Q3 + (whisker_width*IQR)\n",
    "train_df['Fare']=np.where(train_df['Fare']>upper_whisker,upper_whisker,np.where(train_df['Fare']<lower_whisker,lower_whisker,train_df['Fare']))"
   ]
  },
  {
   "cell_type": "code",
   "execution_count": 23,
   "id": "6185c85c",
   "metadata": {},
   "outputs": [
    {
     "data": {
      "text/plain": [
       "count    891.000000\n",
       "mean      24.046813\n",
       "std       20.481625\n",
       "min        0.000000\n",
       "25%        7.910400\n",
       "50%       14.454200\n",
       "75%       31.000000\n",
       "max       65.634400\n",
       "Name: Fare, dtype: float64"
      ]
     },
     "execution_count": 23,
     "metadata": {},
     "output_type": "execute_result"
    }
   ],
   "source": [
    "train_df['Fare'].describe()"
   ]
  },
  {
   "cell_type": "markdown",
   "id": "06918ca5",
   "metadata": {},
   "source": [
    "**Cabin**  \n",
    "For now this column will be removed since it has a high percentage of null values and it has many unique values that will make it difficult to separate in different columns, but checking the values it seems that some treatment may be done in the future (for example, getting only the first letter of the cabin that may indicate its position inside the ship)."
   ]
  },
  {
   "cell_type": "code",
   "execution_count": 24,
   "id": "85ecc967",
   "metadata": {},
   "outputs": [
    {
     "data": {
      "text/plain": [
       "array([nan, 'C85', 'C123', 'E46', 'G6', 'C103', 'D56', 'A6',\n",
       "       'C23 C25 C27', 'B78', 'D33', 'B30', 'C52', 'B28', 'C83', 'F33',\n",
       "       'F G73', 'E31', 'A5', 'D10 D12', 'D26', 'C110', 'B58 B60', 'E101',\n",
       "       'F E69', 'D47', 'B86', 'F2', 'C2', 'E33', 'B19', 'A7', 'C49', 'F4',\n",
       "       'A32', 'B4', 'B80', 'A31', 'D36', 'D15', 'C93', 'C78', 'D35',\n",
       "       'C87', 'B77', 'E67', 'B94', 'C125', 'C99', 'C118', 'D7', 'A19',\n",
       "       'B49', 'D', 'C22 C26', 'C106', 'C65', 'E36', 'C54',\n",
       "       'B57 B59 B63 B66', 'C7', 'E34', 'C32', 'B18', 'C124', 'C91', 'E40',\n",
       "       'T', 'C128', 'D37', 'B35', 'E50', 'C82', 'B96 B98', 'E10', 'E44',\n",
       "       'A34', 'C104', 'C111', 'C92', 'E38', 'D21', 'E12', 'E63', 'A14',\n",
       "       'B37', 'C30', 'D20', 'B79', 'E25', 'D46', 'B73', 'C95', 'B38',\n",
       "       'B39', 'B22', 'C86', 'C70', 'A16', 'C101', 'C68', 'A10', 'E68',\n",
       "       'B41', 'A20', 'D19', 'D50', 'D9', 'A23', 'B50', 'A26', 'D48',\n",
       "       'E58', 'C126', 'B71', 'B51 B53 B55', 'D49', 'B5', 'B20', 'F G63',\n",
       "       'C62 C64', 'E24', 'C90', 'C45', 'E8', 'B101', 'D45', 'C46', 'D30',\n",
       "       'E121', 'D11', 'E77', 'F38', 'B3', 'D6', 'B82 B84', 'D17', 'A36',\n",
       "       'B102', 'B69', 'E49', 'C47', 'D28', 'E17', 'A24', 'C50', 'B42',\n",
       "       'C148'], dtype=object)"
      ]
     },
     "execution_count": 24,
     "metadata": {},
     "output_type": "execute_result"
    }
   ],
   "source": [
    "train_df['Cabin'].unique()"
   ]
  },
  {
   "cell_type": "code",
   "execution_count": 25,
   "id": "503d507c",
   "metadata": {},
   "outputs": [],
   "source": [
    "Cabin = train_df['Cabin']"
   ]
  },
  {
   "cell_type": "code",
   "execution_count": 26,
   "id": "6be41ee3",
   "metadata": {},
   "outputs": [],
   "source": [
    "train_df = train_df.drop(columns=['Cabin'])"
   ]
  },
  {
   "cell_type": "markdown",
   "id": "d001f71e",
   "metadata": {},
   "source": [
    "**Embarked**  \n",
    "\n",
    "This is the port of embarkation (C = Cherbourg, Q = Queenstown, S = Southampton). The get_dummies method will be used to separate the columns."
   ]
  },
  {
   "cell_type": "code",
   "execution_count": 27,
   "id": "3abc7a0b",
   "metadata": {},
   "outputs": [],
   "source": [
    "train_df = pd.get_dummies(train_df,prefix=[\"Embarked\"],columns=[\"Embarked\"])"
   ]
  },
  {
   "cell_type": "markdown",
   "id": "d53476dd",
   "metadata": {},
   "source": [
    "Now we have only non-null numerical values in the dataframe:"
   ]
  },
  {
   "cell_type": "code",
   "execution_count": 28,
   "id": "c811188b",
   "metadata": {
    "scrolled": true
   },
   "outputs": [
    {
     "name": "stdout",
     "output_type": "stream",
     "text": [
      "<class 'pandas.core.frame.DataFrame'>\n",
      "RangeIndex: 891 entries, 0 to 890\n",
      "Data columns (total 12 columns):\n",
      " #   Column      Non-Null Count  Dtype  \n",
      "---  ------      --------------  -----  \n",
      " 0   Age         891 non-null    float64\n",
      " 1   SibSp       891 non-null    int64  \n",
      " 2   Parch       891 non-null    int64  \n",
      " 3   Fare        891 non-null    float64\n",
      " 4   Class_1     891 non-null    uint8  \n",
      " 5   Class_2     891 non-null    uint8  \n",
      " 6   Class_3     891 non-null    uint8  \n",
      " 7   Sex_female  891 non-null    uint8  \n",
      " 8   Sex_male    891 non-null    uint8  \n",
      " 9   Embarked_C  891 non-null    uint8  \n",
      " 10  Embarked_Q  891 non-null    uint8  \n",
      " 11  Embarked_S  891 non-null    uint8  \n",
      "dtypes: float64(2), int64(2), uint8(8)\n",
      "memory usage: 34.9 KB\n"
     ]
    }
   ],
   "source": [
    "train_df.info()"
   ]
  },
  {
   "cell_type": "markdown",
   "id": "b0c24a1e",
   "metadata": {},
   "source": [
    "### Test set"
   ]
  },
  {
   "cell_type": "markdown",
   "id": "18d01c18",
   "metadata": {},
   "source": [
    "The same treatments will be done below for the test set so it can be used to evaluate the models."
   ]
  },
  {
   "cell_type": "code",
   "execution_count": 29,
   "id": "cd661185",
   "metadata": {},
   "outputs": [],
   "source": [
    "PassengerId_test = test_df['PassengerId']"
   ]
  },
  {
   "cell_type": "code",
   "execution_count": 30,
   "id": "6864b9be",
   "metadata": {},
   "outputs": [],
   "source": [
    "test_df = test_df.drop(columns=['PassengerId', 'Name', 'Ticket', 'Cabin'])"
   ]
  },
  {
   "cell_type": "code",
   "execution_count": 31,
   "id": "324a141a",
   "metadata": {},
   "outputs": [],
   "source": [
    "test_df = pd.get_dummies(test_df,prefix=[\"Class\"],columns=[\"Pclass\"])"
   ]
  },
  {
   "cell_type": "code",
   "execution_count": 32,
   "id": "913a0988",
   "metadata": {},
   "outputs": [],
   "source": [
    "test_df = pd.get_dummies(test_df,prefix=[\"Sex\"],columns=[\"Sex\"])"
   ]
  },
  {
   "cell_type": "code",
   "execution_count": 33,
   "id": "928a7234",
   "metadata": {},
   "outputs": [],
   "source": [
    "test_df = pd.get_dummies(test_df,prefix=[\"Embarked\"],columns=[\"Embarked\"])"
   ]
  },
  {
   "cell_type": "code",
   "execution_count": 34,
   "id": "249f6bba",
   "metadata": {
    "scrolled": true
   },
   "outputs": [
    {
     "name": "stdout",
     "output_type": "stream",
     "text": [
      "<class 'pandas.core.frame.DataFrame'>\n",
      "RangeIndex: 418 entries, 0 to 417\n",
      "Data columns (total 12 columns):\n",
      " #   Column      Non-Null Count  Dtype  \n",
      "---  ------      --------------  -----  \n",
      " 0   Age         332 non-null    float64\n",
      " 1   SibSp       418 non-null    int64  \n",
      " 2   Parch       418 non-null    int64  \n",
      " 3   Fare        417 non-null    float64\n",
      " 4   Class_1     418 non-null    uint8  \n",
      " 5   Class_2     418 non-null    uint8  \n",
      " 6   Class_3     418 non-null    uint8  \n",
      " 7   Sex_female  418 non-null    uint8  \n",
      " 8   Sex_male    418 non-null    uint8  \n",
      " 9   Embarked_C  418 non-null    uint8  \n",
      " 10  Embarked_Q  418 non-null    uint8  \n",
      " 11  Embarked_S  418 non-null    uint8  \n",
      "dtypes: float64(2), int64(2), uint8(8)\n",
      "memory usage: 16.5 KB\n"
     ]
    }
   ],
   "source": [
    "test_df.info()"
   ]
  },
  {
   "cell_type": "markdown",
   "id": "ad7097c5",
   "metadata": {},
   "source": [
    "The age and the fare columns have null values. First, as it was done for the train set, the null values for the Age column will be substituted by the median value. Then, for now, since the Fare column only has one null value, it will be substituted by 0."
   ]
  },
  {
   "cell_type": "code",
   "execution_count": 35,
   "id": "08c8e5da",
   "metadata": {},
   "outputs": [
    {
     "data": {
      "text/plain": [
       "count    332.000000\n",
       "mean      30.272590\n",
       "std       14.181209\n",
       "min        0.170000\n",
       "25%       21.000000\n",
       "50%       27.000000\n",
       "75%       39.000000\n",
       "max       76.000000\n",
       "Name: Age, dtype: float64"
      ]
     },
     "execution_count": 35,
     "metadata": {},
     "output_type": "execute_result"
    }
   ],
   "source": [
    "test_df['Age'].describe()"
   ]
  },
  {
   "cell_type": "code",
   "execution_count": 36,
   "id": "1edfa457",
   "metadata": {},
   "outputs": [],
   "source": [
    "age_median_test = test_df['Age'].median()"
   ]
  },
  {
   "cell_type": "code",
   "execution_count": 37,
   "id": "318a919c",
   "metadata": {},
   "outputs": [
    {
     "name": "stdout",
     "output_type": "stream",
     "text": [
      "Skewness:  0.4573612871503845\n"
     ]
    }
   ],
   "source": [
    "print('Skewness: ',test_df['Age'].skew())"
   ]
  },
  {
   "cell_type": "code",
   "execution_count": 38,
   "id": "19b903d6",
   "metadata": {},
   "outputs": [],
   "source": [
    "test_df['Age'].fillna(age_median_test, inplace=True)"
   ]
  },
  {
   "cell_type": "code",
   "execution_count": 39,
   "id": "f230afbb",
   "metadata": {},
   "outputs": [],
   "source": [
    "test_df['Fare'].fillna(0, inplace=True)"
   ]
  },
  {
   "cell_type": "markdown",
   "id": "a74f93ee",
   "metadata": {},
   "source": [
    "# Supervised machine learning models"
   ]
  },
  {
   "cell_type": "markdown",
   "id": "6aa4d8ba",
   "metadata": {},
   "source": [
    "## Dummy classifier"
   ]
  },
  {
   "cell_type": "markdown",
   "id": "4e47b638",
   "metadata": {},
   "source": [
    "Used to get a baseline of accuracy for the next predictions"
   ]
  },
  {
   "cell_type": "code",
   "execution_count": 40,
   "id": "57630fb4",
   "metadata": {},
   "outputs": [],
   "source": [
    "from sklearn.model_selection import train_test_split\n",
    "x_train, x_test, y_train, y_test = train_test_split(train_df, label, test_size=0.25, random_state=0)"
   ]
  },
  {
   "cell_type": "code",
   "execution_count": 41,
   "id": "b24cbf0e",
   "metadata": {},
   "outputs": [
    {
     "name": "stdout",
     "output_type": "stream",
     "text": [
      "A acurácia do dummy stratified foi de 49.78%\n"
     ]
    }
   ],
   "source": [
    "from sklearn.dummy import DummyClassifier\n",
    "\n",
    "dummy_stratified = DummyClassifier(strategy='stratified')\n",
    "dummy_stratified.fit(x_train, y_train)\n",
    "acuracia = dummy_stratified.score(x_test, y_test) * 100\n",
    "\n",
    "print(\"A acurácia do dummy stratified foi de %.2f%%\" % acuracia)"
   ]
  },
  {
   "cell_type": "markdown",
   "id": "ecbb8357",
   "metadata": {},
   "source": [
    "## Logistic regression"
   ]
  },
  {
   "cell_type": "code",
   "execution_count": 42,
   "id": "3b9aec2d",
   "metadata": {},
   "outputs": [],
   "source": [
    "from sklearn.linear_model import LogisticRegression\n",
    "from sklearn.pipeline import make_pipeline\n",
    "from sklearn.preprocessing import StandardScaler"
   ]
  },
  {
   "cell_type": "code",
   "execution_count": 43,
   "id": "84935872",
   "metadata": {},
   "outputs": [],
   "source": [
    "logisticRegr = make_pipeline(StandardScaler(), LogisticRegression())"
   ]
  },
  {
   "cell_type": "code",
   "execution_count": 44,
   "id": "d2706350",
   "metadata": {},
   "outputs": [
    {
     "data": {
      "text/plain": [
       "Pipeline(steps=[('standardscaler', StandardScaler()),\n",
       "                ('logisticregression', LogisticRegression())])"
      ]
     },
     "execution_count": 44,
     "metadata": {},
     "output_type": "execute_result"
    }
   ],
   "source": [
    "logisticRegr.fit(x_train, y_train)"
   ]
  },
  {
   "cell_type": "code",
   "execution_count": 58,
   "id": "28352e06",
   "metadata": {},
   "outputs": [
    {
     "name": "stdout",
     "output_type": "stream",
     "text": [
      "A acurácia da regressão logística foi de 80.39%\n"
     ]
    }
   ],
   "source": [
    "print(\"A acurácia da regressão logística foi de %.2f%%\" % (logisticRegr.score(x_train, y_train) * 100))"
   ]
  },
  {
   "cell_type": "code",
   "execution_count": 46,
   "id": "5fef30aa",
   "metadata": {},
   "outputs": [],
   "source": [
    "score = logisticRegr.score(x_test, y_test)"
   ]
  },
  {
   "cell_type": "code",
   "execution_count": 47,
   "id": "910c71b8",
   "metadata": {},
   "outputs": [],
   "source": [
    "predictions = logisticRegr.predict(x_test)"
   ]
  },
  {
   "cell_type": "code",
   "execution_count": 48,
   "id": "2318125b",
   "metadata": {},
   "outputs": [],
   "source": [
    "import matplotlib.pyplot as plt\n",
    "import seaborn as sns\n",
    "from sklearn import metrics"
   ]
  },
  {
   "cell_type": "code",
   "execution_count": 49,
   "id": "ff0beccc",
   "metadata": {},
   "outputs": [
    {
     "name": "stdout",
     "output_type": "stream",
     "text": [
      "[[116  23]\n",
      " [ 23  61]]\n"
     ]
    }
   ],
   "source": [
    "cm = metrics.confusion_matrix(y_test, predictions)\n",
    "print(cm)"
   ]
  },
  {
   "cell_type": "code",
   "execution_count": 50,
   "id": "cc925524",
   "metadata": {},
   "outputs": [
    {
     "data": {
      "image/png": "[encoded data removed]",
      "text/plain": [
       "<Figure size 648x648 with 2 Axes>"
      ]
     },
     "metadata": {
      "needs_background": "light"
     },
     "output_type": "display_data"
    }
   ],
   "source": [
    "plt.figure(figsize=(9,9))\n",
    "sns.heatmap(cm, annot=True, fmt=\".3f\", linewidths=.5, square = True, cmap = 'Blues_r');\n",
    "plt.ylabel('Actual label');\n",
    "plt.xlabel('Predicted label');\n",
    "all_sample_title = 'Accuracy Score: {0}'.format(score)\n",
    "plt.title(all_sample_title, size = 15);"
   ]
  },
  {
   "cell_type": "code",
   "execution_count": 51,
   "id": "1f63f7a5",
   "metadata": {},
   "outputs": [],
   "source": [
    "predictions_kaggle = logisticRegr.predict(test_df)"
   ]
  },
  {
   "cell_type": "code",
   "execution_count": 52,
   "id": "c61e4c2d",
   "metadata": {},
   "outputs": [],
   "source": [
    "submission_logisticReg = pd.DataFrame()"
   ]
  },
  {
   "cell_type": "code",
   "execution_count": 53,
   "id": "26e38439",
   "metadata": {},
   "outputs": [],
   "source": [
    "submission_logisticReg['PassengerId'] = PassengerId_test"
   ]
  },
  {
   "cell_type": "code",
   "execution_count": 54,
   "id": "149d4d3b",
   "metadata": {},
   "outputs": [],
   "source": [
    "submission_logisticReg['Survived'] = pd.DataFrame(predictions_kaggle)"
   ]
  },
  {
   "cell_type": "code",
   "execution_count": 55,
   "id": "bc86ebbc",
   "metadata": {},
   "outputs": [],
   "source": [
    "submission_logisticReg.to_csv('submission_logisticReg.csv', index=False)"
   ]
  },
  {
   "cell_type": "code",
   "execution_count": null,
   "id": "ca180079",
   "metadata": {},
   "outputs": [],
   "source": []
  }
 ],
 "metadata": {
  "kernelspec": {
   "display_name": "Python 3 (ipykernel)",
   "language": "python",
   "name": "python3"
  },
  "language_info": {
   "codemirror_mode": {
    "name": "ipython",
    "version": 3
   },
   "file_extension": ".py",
   "mimetype": "text/x-python",
   "name": "python",
   "nbconvert_exporter": "python",
   "pygments_lexer": "ipython3",
   "version": "3.9.7"
  }
 },
 "nbformat": 4,
 "nbformat_minor": 5
}
